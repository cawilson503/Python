{
  "nbformat": 4,
  "nbformat_minor": 0,
  "metadata": {
    "colab": {
      "provenance": [],
      "authorship_tag": "ABX9TyMSBZXAaLcRkDZuvsfddaJ/",
      "include_colab_link": true
    },
    "kernelspec": {
      "name": "python3",
      "display_name": "Python 3"
    },
    "language_info": {
      "name": "python"
    }
  },
  "cells": [
    {
      "cell_type": "markdown",
      "metadata": {
        "id": "view-in-github",
        "colab_type": "text"
      },
      "source": [
        "<a href=\"https://colab.research.google.com/github/cawilson503/Python/blob/main/Midterm.ipynb\" target=\"_parent\"><img src=\"https://colab.research.google.com/assets/colab-badge.svg\" alt=\"Open In Colab\"/></a>"
      ]
    },
    {
      "cell_type": "code",
      "source": [
        "!jupyter nbconvert --to html Midterm.ipynb"
      ],
      "metadata": {
        "colab": {
          "base_uri": "https://localhost:8080/"
        },
        "id": "008qLXbEh0yI",
        "outputId": "e5741f81-ecb6-4906-9894-cc5f295f510f"
      },
      "execution_count": null,
      "outputs": [
        {
          "output_type": "stream",
          "name": "stdout",
          "text": [
            "[NbConvertApp] Converting notebook Midterm.ipynb to html\n",
            "[NbConvertApp] Writing 589562 bytes to Midterm.html\n"
          ]
        }
      ]
    },
    {
      "cell_type": "code",
      "execution_count": null,
      "metadata": {
        "colab": {
          "base_uri": "https://localhost:8080/"
        },
        "id": "GV_vq310HLKD",
        "outputId": "978a3a5d-4dcc-4377-b679-a17f719ea237"
      },
      "outputs": [
        {
          "output_type": "stream",
          "name": "stdout",
          "text": [
            "3 4 5\n",
            "4 3 5\n",
            "5 12 13\n",
            "6 8 10\n",
            "8 6 10\n",
            "8 15 17\n",
            "9 12 15\n",
            "12 5 13\n",
            "12 9 15\n",
            "12 16 20\n",
            "15 8 17\n",
            "16 12 20\n"
          ]
        }
      ],
      "source": [
        "#Q1\n",
        "#Using triple nested for loop\n",
        "for x in range(1, 21):\n",
        "  for y in range(1,21):\n",
        "    for z in range(1,21):\n",
        "      if x*x + y*y == z*z:\n",
        "        print(x,y,z)\n"
      ]
    },
    {
      "cell_type": "code",
      "source": [],
      "metadata": {
        "id": "H_a0vaT8XJGs"
      },
      "execution_count": null,
      "outputs": []
    },
    {
      "cell_type": "code",
      "source": [
        "#Q2\n",
        "#Using List Comprehension\n",
        "list = [3,8,2,5,30,7,9]\n",
        "print(list)\n",
        "\n",
        "def divide(list):\n",
        " for i in range(len(list)):\n",
        "    list[i] = 'best' if list[i]%3==0 and list[i]%5==0 else 'good' if list[i]%3==0 else 'better' if list[i]%5==0 else list[i]\n",
        "    print(list)\n",
        "\n",
        "divide(list)"
      ],
      "metadata": {
        "colab": {
          "base_uri": "https://localhost:8080/"
        },
        "id": "SAXIwGcdPRtS",
        "outputId": "564a9fd6-7e54-4c1b-81db-c6ba0180a94b"
      },
      "execution_count": null,
      "outputs": [
        {
          "output_type": "stream",
          "name": "stdout",
          "text": [
            "[3, 8, 2, 5, 30, 7, 9]\n",
            "['good', 8, 2, 5, 30, 7, 9]\n",
            "['good', 8, 2, 5, 30, 7, 9]\n",
            "['good', 8, 2, 5, 30, 7, 9]\n",
            "['good', 8, 2, 'better', 30, 7, 9]\n",
            "['good', 8, 2, 'better', 'best', 7, 9]\n",
            "['good', 8, 2, 'better', 'best', 7, 9]\n",
            "['good', 8, 2, 'better', 'best', 7, 'good']\n"
          ]
        }
      ]
    },
    {
      "cell_type": "code",
      "source": [
        "#Q3\n",
        "#Using Slicing\n",
        "alphabet = \"abcdefghijklmnopqrstuvwxyz\"\n",
        "print(alphabet[:13])\n",
        "print(alphabet[13:])\n",
        "print(alphabet[0:26:2])\n",
        "print(alphabet[::-1])\n",
        "print(alphabet[26:1:-3])"
      ],
      "metadata": {
        "colab": {
          "base_uri": "https://localhost:8080/"
        },
        "id": "SA7YZXSaTb1E",
        "outputId": "4d7823f9-8547-4d04-e27e-386e9c0d8450"
      },
      "execution_count": null,
      "outputs": [
        {
          "output_type": "stream",
          "name": "stdout",
          "text": [
            "abcdefghijklm\n",
            "nopqrstuvwxyz\n",
            "acegikmoqsuwy\n",
            "zyxwvutsrqponmlkjihgfedcba\n",
            "zwtqnkhe\n"
          ]
        }
      ]
    },
    {
      "cell_type": "code",
      "source": [
        "#Q4\n",
        "#Using sorting\n",
        "list = [2,8,9,6,1,3,4,7,10]\n",
        "list2 = ['jrt','uh','bct','rwx']\n",
        "\n",
        "def sortList (list):\n",
        "    list.sort()\n",
        "    print(list)\n",
        "\n",
        "sortList(list)\n",
        "sortList(list2)\n"
      ],
      "metadata": {
        "colab": {
          "base_uri": "https://localhost:8080/"
        },
        "id": "M8bz6-6HWBda",
        "outputId": "de04c39d-c73b-4cae-ab2a-b4f82cb854e6"
      },
      "execution_count": null,
      "outputs": [
        {
          "output_type": "stream",
          "name": "stdout",
          "text": [
            "[1, 2, 3, 4, 6, 7, 8, 9, 10]\n",
            "['bct', 'jrt', 'rwx', 'uh']\n"
          ]
        }
      ]
    },
    {
      "cell_type": "code",
      "source": [
        "#Q5a\n",
        "#Using Counter\n",
        "from collections import Counter\n",
        "string = \"my name is chelsie\"\n",
        "count=Counter(string)\n",
        "print(count)"
      ],
      "metadata": {
        "colab": {
          "base_uri": "https://localhost:8080/"
        },
        "id": "hJByq-omer33",
        "outputId": "c11808d0-2afb-4046-ef78-82cb67f3cbf5"
      },
      "execution_count": null,
      "outputs": [
        {
          "output_type": "stream",
          "name": "stdout",
          "text": [
            "Counter({' ': 3, 'e': 3, 'm': 2, 'i': 2, 's': 2, 'y': 1, 'n': 1, 'a': 1, 'c': 1, 'h': 1, 'l': 1})\n"
          ]
        }
      ]
    },
    {
      "cell_type": "code",
      "source": [
        "#Q5b\n",
        "#Using reversal of key value pairs\n",
        "from collections import Counter\n",
        "string = \"my name is chelsie\"\n",
        "count=Counter(string)\n",
        "print(count)\n",
        "for i in range(len(string)):\n",
        "  inverted={number: name for name, number in count.items()}\n",
        "\n",
        "print(inverted)\n"
      ],
      "metadata": {
        "colab": {
          "base_uri": "https://localhost:8080/"
        },
        "id": "ptSjPxr3zE3z",
        "outputId": "ab8f118b-48a7-4c49-9eb0-4ecbaf3afc60"
      },
      "execution_count": null,
      "outputs": [
        {
          "output_type": "stream",
          "name": "stdout",
          "text": [
            "Counter({' ': 3, 'e': 3, 'm': 2, 'i': 2, 's': 2, 'y': 1, 'n': 1, 'a': 1, 'c': 1, 'h': 1, 'l': 1})\n",
            "{2: 's', 1: 'l', 3: 'e'}\n"
          ]
        }
      ]
    }
  ]
}